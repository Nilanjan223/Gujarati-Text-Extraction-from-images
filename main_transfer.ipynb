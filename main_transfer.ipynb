{
 "cells": [
  {
   "cell_type": "code",
   "execution_count": 16,
   "id": "2c456d79",
   "metadata": {},
   "outputs": [],
   "source": [
    "import os\n",
    "import numpy as np\n",
    "from keras.models import load_model\n",
    "from keras.preprocessing.image import ImageDataGenerator\n",
    "from keras.models import Sequential, Model\n",
    "from keras.layers import Flatten, Dense, Dropout\n",
    "from keras.applications import VGG16\n",
    "from keras.optimizers import Adam\n",
    "from sklearn.model_selection import train_test_split"
   ]
  },
  {
   "cell_type": "code",
   "execution_count": 17,
   "id": "d75e1d14",
   "metadata": {},
   "outputs": [],
   "source": [
    "train_data_dir = r'C:\\Users\\Nilanjan Vyas\\Documents\\Minor_Project\\Dataset\\Train'\n",
    "test_data_dir = r'C:\\Users\\Nilanjan Vyas\\Documents\\Minor_Project\\Dataset\\Test'"
   ]
  },
  {
   "cell_type": "code",
   "execution_count": 18,
   "id": "be947688",
   "metadata": {},
   "outputs": [],
   "source": [
    "import os\n",
    "import numpy as np\n",
    "from keras.preprocessing.image import ImageDataGenerator\n",
    "from keras.models import Sequential\n",
    "from keras.layers import Flatten, Dense, Dropout,Conv2D,MaxPooling2D,Input\n",
    "from keras.optimizers import Adam\n",
    "from sklearn.model_selection import train_test_split\n",
    "\n",
    "# Define your own custom model\n",
    "input_layer = Input(shape=(32, 32, 3))\n",
    "\n",
    "# Convolutional layers and max pooling\n",
    "conv1 = Conv2D(32, (3, 3), activation='relu')(input_layer)\n",
    "max_pool1 = MaxPooling2D(pool_size=(2, 2))(conv1)\n",
    "\n",
    "conv2 = Conv2D(64, (3, 3), activation='relu')(max_pool1)\n",
    "max_pool2 = MaxPooling2D(pool_size=(2, 2))(conv2)\n",
    "\n",
    "conv3 = Conv2D(128, (3, 3), activation='relu')(max_pool2)\n",
    "max_pool3 = MaxPooling2D(pool_size=(2, 2))(conv3)\n",
    "\n",
    "# Flatten and fully connected layers\n",
    "flatten_layer = Flatten()(max_pool3)\n",
    "dense1 = Dense(256, activation='relu')(flatten_layer)\n",
    "\n",
    "# Output layer\n",
    "output_layer = Dense(36, activation='softmax')(dense1)  # Assuming 36 classes\n",
    "\n",
    "# Create the model\n",
    "original_model = Model(inputs=input_layer, outputs=output_layer)\n",
    "\n",
    "\n",
    "# Compile the model\n"
   ]
  },
  {
   "cell_type": "code",
   "execution_count": 19,
   "id": "edb33bea",
   "metadata": {
    "scrolled": true
   },
   "outputs": [],
   "source": [
    "import numpy as np \n",
    "from tensorflow.keras.models import load_model\n",
    "\n",
    "# original_model.load_weights(r'C:\\Users\\Nilanjan Vyas\\Documents\\Minor_Project/custom_cnn_weights.h5')\n",
    "\n",
    "# first_layer_weights = custom_cnn.layers[0].get_weights()\n",
    "# second_layer_weights = custom_cnn.layers[1].get_weights()\n",
    "\n",
    "# layers_to_load = 3  # Number of layers to load weights into\n",
    "\n",
    "# original_model.layers[layers_to_load-1].set_weights(first_layer_weights)\n",
    "# original_model.layers[layers_to_load-2].set_weights(second_layer_weights)\n",
    "\n",
    "loaded_weights = np.load('custom_weights.npy', allow_pickle=True)\n",
    "\n",
    "for i, layer in enumerate(original_model.layers[:5]):\n",
    "    layer.set_weights(loaded_weights[i])\n",
    "    layer.trainable=False\n",
    "\n",
    "# for layer in original_model.layers[:layers_to_load]:\n",
    "#     layer.trainable = False\n",
    "\n",
    "original_model.compile(loss='categorical_crossentropy',\n",
    "              optimizer=Adam(learning_rate=0.001),\n",
    "              metrics=['accuracy'])\n",
    "\n"
   ]
  },
  {
   "cell_type": "code",
   "execution_count": 20,
   "id": "6f68ea6f",
   "metadata": {},
   "outputs": [
    {
     "name": "stdout",
     "output_type": "stream",
     "text": [
      "Model: \"model_1\"\n",
      "____________________________________________________________________________\n",
      " Layer (type)                Output Shape              Param #   Trainable  \n",
      "============================================================================\n",
      " input_2 (InputLayer)        [(None, 32, 32, 3)]       0         N          \n",
      "                                                                            \n",
      " conv2d_3 (Conv2D)           (None, 30, 30, 32)        896       N          \n",
      "                                                                            \n",
      " max_pooling2d_3 (MaxPooling  (None, 15, 15, 32)       0         N          \n",
      " 2D)                                                                        \n",
      "                                                                            \n",
      " conv2d_4 (Conv2D)           (None, 13, 13, 64)        18496     N          \n",
      "                                                                            \n",
      " max_pooling2d_4 (MaxPooling  (None, 6, 6, 64)         0         N          \n",
      " 2D)                                                                        \n",
      "                                                                            \n",
      " conv2d_5 (Conv2D)           (None, 4, 4, 128)         73856     Y          \n",
      "                                                                            \n",
      " max_pooling2d_5 (MaxPooling  (None, 2, 2, 128)        0         Y          \n",
      " 2D)                                                                        \n",
      "                                                                            \n",
      " flatten_1 (Flatten)         (None, 512)               0         Y          \n",
      "                                                                            \n",
      " dense_2 (Dense)             (None, 256)               131328    Y          \n",
      "                                                                            \n",
      " dense_3 (Dense)             (None, 36)                9252      Y          \n",
      "                                                                            \n",
      "============================================================================\n",
      "Total params: 233,828\n",
      "Trainable params: 214,436\n",
      "Non-trainable params: 19,392\n",
      "____________________________________________________________________________\n"
     ]
    }
   ],
   "source": [
    "original_model.summary(show_trainable=True)"
   ]
  },
  {
   "cell_type": "code",
   "execution_count": 21,
   "id": "27d0e397",
   "metadata": {},
   "outputs": [
    {
     "name": "stdout",
     "output_type": "stream",
     "text": [
      "Found 7289 images belonging to 36 classes.\n"
     ]
    }
   ],
   "source": [
    "# Data augmentation and normalization\n",
    "train_datagen = ImageDataGenerator(\n",
    "    rescale=1. / 255,\n",
    "    shear_range=0.2,\n",
    "    zoom_range=0.2,\n",
    "    horizontal_flip=True,\n",
    ")  # Splitting 20% of the data as validation set\n",
    "\n",
    "# Load and split the data\n",
    "train_generator = train_datagen.flow_from_directory(\n",
    "    train_data_dir,\n",
    "    target_size=(32, 32),\n",
    "    batch_size=32,\n",
    "    class_mode='categorical')  # Use subset parameter to specify training data"
   ]
  },
  {
   "cell_type": "code",
   "execution_count": 22,
   "id": "f97e90a9",
   "metadata": {},
   "outputs": [
    {
     "name": "stdout",
     "output_type": "stream",
     "text": [
      "Epoch 1/100\n",
      "227/227 [==============================] - 14s 54ms/step - loss: 2.9922 - accuracy: 0.1954\n",
      "Epoch 2/100\n",
      "227/227 [==============================] - 11s 46ms/step - loss: 2.1327 - accuracy: 0.4186\n",
      "Epoch 3/100\n",
      "227/227 [==============================] - 11s 50ms/step - loss: 1.6616 - accuracy: 0.5395\n",
      "Epoch 4/100\n",
      "227/227 [==============================] - 11s 49ms/step - loss: 1.3331 - accuracy: 0.6311\n",
      "Epoch 5/100\n",
      "227/227 [==============================] - 12s 54ms/step - loss: 1.1269 - accuracy: 0.6777\n",
      "Epoch 6/100\n",
      "227/227 [==============================] - 12s 55ms/step - loss: 0.9718 - accuracy: 0.7159\n",
      "Epoch 7/100\n",
      "227/227 [==============================] - 13s 57ms/step - loss: 0.8315 - accuracy: 0.7587\n",
      "Epoch 8/100\n",
      "227/227 [==============================] - 14s 61ms/step - loss: 0.7546 - accuracy: 0.7737\n",
      "Epoch 9/100\n",
      "227/227 [==============================] - 13s 57ms/step - loss: 0.6668 - accuracy: 0.8020\n",
      "Epoch 10/100\n",
      "227/227 [==============================] - 15s 64ms/step - loss: 0.5931 - accuracy: 0.8242\n",
      "Epoch 11/100\n",
      "227/227 [==============================] - 13s 58ms/step - loss: 0.5371 - accuracy: 0.8386\n",
      "Epoch 12/100\n",
      "227/227 [==============================] - 12s 53ms/step - loss: 0.5005 - accuracy: 0.8458\n",
      "Epoch 13/100\n",
      "227/227 [==============================] - 12s 52ms/step - loss: 0.4507 - accuracy: 0.8640\n",
      "Epoch 14/100\n",
      "227/227 [==============================] - 12s 52ms/step - loss: 0.4408 - accuracy: 0.8622\n",
      "Epoch 15/100\n",
      "227/227 [==============================] - 12s 52ms/step - loss: 0.3979 - accuracy: 0.8741\n",
      "Epoch 16/100\n",
      "227/227 [==============================] - 12s 51ms/step - loss: 0.3834 - accuracy: 0.8844\n",
      "Epoch 17/100\n",
      "227/227 [==============================] - 14s 62ms/step - loss: 0.3500 - accuracy: 0.8906\n",
      "Epoch 18/100\n",
      "227/227 [==============================] - 12s 52ms/step - loss: 0.3276 - accuracy: 0.8958\n",
      "Epoch 19/100\n",
      "227/227 [==============================] - 9s 39ms/step - loss: 0.3165 - accuracy: 0.9016\n",
      "Epoch 20/100\n",
      "227/227 [==============================] - 8s 34ms/step - loss: 0.3103 - accuracy: 0.9020\n",
      "Epoch 21/100\n",
      "227/227 [==============================] - 8s 35ms/step - loss: 0.2811 - accuracy: 0.9144\n",
      "Epoch 22/100\n",
      "227/227 [==============================] - 8s 37ms/step - loss: 0.2710 - accuracy: 0.9164\n",
      "Epoch 23/100\n",
      "227/227 [==============================] - 7s 31ms/step - loss: 0.2793 - accuracy: 0.9091\n",
      "Epoch 24/100\n",
      "227/227 [==============================] - 7s 32ms/step - loss: 0.2667 - accuracy: 0.9124\n",
      "Epoch 25/100\n",
      "227/227 [==============================] - 8s 36ms/step - loss: 0.2627 - accuracy: 0.9201\n",
      "Epoch 26/100\n",
      "227/227 [==============================] - 7s 33ms/step - loss: 0.2233 - accuracy: 0.9293\n",
      "Epoch 27/100\n",
      "227/227 [==============================] - 7s 30ms/step - loss: 0.2290 - accuracy: 0.9234\n",
      "Epoch 28/100\n",
      "227/227 [==============================] - 7s 32ms/step - loss: 0.2231 - accuracy: 0.9311\n",
      "Epoch 29/100\n",
      "227/227 [==============================] - 7s 31ms/step - loss: 0.2284 - accuracy: 0.9282\n",
      "Epoch 30/100\n",
      "227/227 [==============================] - 7s 31ms/step - loss: 0.2111 - accuracy: 0.9351\n",
      "Epoch 31/100\n",
      "227/227 [==============================] - 7s 30ms/step - loss: 0.2177 - accuracy: 0.9292\n",
      "Epoch 32/100\n",
      "227/227 [==============================] - 7s 31ms/step - loss: 0.2207 - accuracy: 0.9299\n",
      "Epoch 33/100\n",
      "227/227 [==============================] - 7s 30ms/step - loss: 0.1740 - accuracy: 0.9457\n",
      "Epoch 34/100\n",
      "227/227 [==============================] - 7s 31ms/step - loss: 0.1864 - accuracy: 0.9418\n",
      "Epoch 35/100\n",
      "227/227 [==============================] - 7s 31ms/step - loss: 0.1694 - accuracy: 0.9454\n",
      "Epoch 36/100\n",
      "227/227 [==============================] - 7s 30ms/step - loss: 0.1872 - accuracy: 0.9369\n",
      "Epoch 37/100\n",
      "227/227 [==============================] - 7s 31ms/step - loss: 0.1658 - accuracy: 0.9497\n",
      "Epoch 38/100\n",
      "227/227 [==============================] - 7s 30ms/step - loss: 0.1769 - accuracy: 0.9465\n",
      "Epoch 39/100\n",
      "227/227 [==============================] - 7s 31ms/step - loss: 0.1507 - accuracy: 0.9523\n",
      "Epoch 40/100\n",
      "227/227 [==============================] - 7s 30ms/step - loss: 0.1740 - accuracy: 0.9435\n",
      "Epoch 41/100\n",
      "227/227 [==============================] - 7s 31ms/step - loss: 0.1756 - accuracy: 0.9436\n",
      "Epoch 42/100\n",
      "227/227 [==============================] - 7s 30ms/step - loss: 0.1808 - accuracy: 0.9449\n",
      "Epoch 43/100\n",
      "227/227 [==============================] - 8s 34ms/step - loss: 0.1480 - accuracy: 0.9530\n",
      "Epoch 44/100\n",
      "227/227 [==============================] - 8s 33ms/step - loss: 0.1473 - accuracy: 0.9514\n",
      "Epoch 45/100\n",
      "227/227 [==============================] - 7s 30ms/step - loss: 0.1473 - accuracy: 0.9538\n",
      "Epoch 46/100\n",
      "227/227 [==============================] - 7s 31ms/step - loss: 0.1581 - accuracy: 0.9494\n",
      "Epoch 47/100\n",
      "227/227 [==============================] - 7s 30ms/step - loss: 0.1480 - accuracy: 0.9512\n",
      "Epoch 48/100\n",
      "227/227 [==============================] - 7s 31ms/step - loss: 0.1582 - accuracy: 0.9512\n",
      "Epoch 49/100\n",
      "227/227 [==============================] - 7s 30ms/step - loss: 0.1421 - accuracy: 0.9547\n",
      "Epoch 50/100\n",
      "227/227 [==============================] - 7s 30ms/step - loss: 0.1357 - accuracy: 0.9569\n",
      "Epoch 51/100\n",
      "227/227 [==============================] - 7s 30ms/step - loss: 0.1558 - accuracy: 0.9516\n",
      "Epoch 52/100\n",
      "227/227 [==============================] - 7s 30ms/step - loss: 0.1399 - accuracy: 0.9558\n",
      "Epoch 53/100\n",
      "227/227 [==============================] - 7s 31ms/step - loss: 0.1291 - accuracy: 0.9603\n",
      "Epoch 54/100\n",
      "227/227 [==============================] - 7s 30ms/step - loss: 0.1221 - accuracy: 0.9613\n",
      "Epoch 55/100\n",
      "227/227 [==============================] - 7s 31ms/step - loss: 0.1520 - accuracy: 0.9515\n",
      "Epoch 56/100\n",
      "227/227 [==============================] - 7s 30ms/step - loss: 0.1406 - accuracy: 0.9559\n",
      "Epoch 57/100\n",
      "227/227 [==============================] - 7s 31ms/step - loss: 0.1246 - accuracy: 0.9602\n",
      "Epoch 58/100\n",
      "227/227 [==============================] - 7s 30ms/step - loss: 0.1496 - accuracy: 0.9523\n",
      "Epoch 59/100\n",
      "227/227 [==============================] - 7s 30ms/step - loss: 0.1195 - accuracy: 0.9635\n",
      "Epoch 60/100\n",
      "227/227 [==============================] - 7s 31ms/step - loss: 0.1344 - accuracy: 0.9595\n",
      "Epoch 61/100\n",
      "227/227 [==============================] - 7s 30ms/step - loss: 0.1247 - accuracy: 0.9598\n",
      "Epoch 62/100\n",
      "227/227 [==============================] - 7s 31ms/step - loss: 0.1130 - accuracy: 0.9607\n",
      "Epoch 63/100\n",
      "227/227 [==============================] - 7s 30ms/step - loss: 0.1211 - accuracy: 0.9621\n",
      "Epoch 64/100\n",
      "227/227 [==============================] - 8s 33ms/step - loss: 0.1172 - accuracy: 0.9633\n",
      "Epoch 65/100\n",
      "227/227 [==============================] - 7s 30ms/step - loss: 0.1359 - accuracy: 0.9578\n",
      "Epoch 66/100\n",
      "227/227 [==============================] - 7s 30ms/step - loss: 0.1106 - accuracy: 0.9651\n",
      "Epoch 67/100\n",
      "227/227 [==============================] - 7s 30ms/step - loss: 0.1233 - accuracy: 0.9600\n",
      "Epoch 68/100\n",
      "227/227 [==============================] - 7s 31ms/step - loss: 0.1124 - accuracy: 0.9642\n",
      "Epoch 69/100\n",
      "227/227 [==============================] - 7s 32ms/step - loss: 0.1041 - accuracy: 0.9662\n",
      "Epoch 70/100\n",
      "227/227 [==============================] - 8s 33ms/step - loss: 0.1104 - accuracy: 0.9599\n",
      "Epoch 71/100\n",
      "227/227 [==============================] - 7s 32ms/step - loss: 0.1253 - accuracy: 0.9576\n",
      "Epoch 72/100\n",
      "227/227 [==============================] - 7s 33ms/step - loss: 0.1087 - accuracy: 0.9656\n",
      "Epoch 73/100\n",
      "227/227 [==============================] - 7s 33ms/step - loss: 0.1279 - accuracy: 0.9606\n",
      "Epoch 74/100\n",
      "227/227 [==============================] - 7s 31ms/step - loss: 0.1160 - accuracy: 0.9625\n",
      "Epoch 75/100\n",
      "227/227 [==============================] - 7s 31ms/step - loss: 0.1209 - accuracy: 0.9636\n",
      "Epoch 76/100\n",
      "227/227 [==============================] - 7s 31ms/step - loss: 0.0983 - accuracy: 0.9693\n",
      "Epoch 77/100\n",
      "227/227 [==============================] - 7s 31ms/step - loss: 0.0985 - accuracy: 0.9694\n",
      "Epoch 78/100\n",
      "227/227 [==============================] - 7s 31ms/step - loss: 0.1039 - accuracy: 0.9671\n",
      "Epoch 79/100\n",
      "227/227 [==============================] - 7s 30ms/step - loss: 0.0832 - accuracy: 0.9724\n",
      "Epoch 80/100\n"
     ]
    },
    {
     "name": "stdout",
     "output_type": "stream",
     "text": [
      "227/227 [==============================] - 7s 31ms/step - loss: 0.1239 - accuracy: 0.9598\n",
      "Epoch 81/100\n",
      "227/227 [==============================] - 7s 30ms/step - loss: 0.0993 - accuracy: 0.9705\n",
      "Epoch 82/100\n",
      "227/227 [==============================] - 8s 34ms/step - loss: 0.1137 - accuracy: 0.9639\n",
      "Epoch 83/100\n",
      "227/227 [==============================] - 8s 34ms/step - loss: 0.1111 - accuracy: 0.9668\n",
      "Epoch 84/100\n",
      "227/227 [==============================] - 7s 31ms/step - loss: 0.1326 - accuracy: 0.9577\n",
      "Epoch 85/100\n",
      "227/227 [==============================] - 7s 31ms/step - loss: 0.1015 - accuracy: 0.9693\n",
      "Epoch 86/100\n",
      "227/227 [==============================] - 7s 30ms/step - loss: 0.1000 - accuracy: 0.9671\n",
      "Epoch 87/100\n",
      "227/227 [==============================] - 7s 31ms/step - loss: 0.1036 - accuracy: 0.9691\n",
      "Epoch 88/100\n",
      "227/227 [==============================] - 7s 30ms/step - loss: 0.0834 - accuracy: 0.9730\n",
      "Epoch 89/100\n",
      "227/227 [==============================] - 7s 31ms/step - loss: 0.0882 - accuracy: 0.9702\n",
      "Epoch 90/100\n",
      "227/227 [==============================] - 7s 31ms/step - loss: 0.1233 - accuracy: 0.9622\n",
      "Epoch 91/100\n",
      "227/227 [==============================] - 7s 31ms/step - loss: 0.1143 - accuracy: 0.9643\n",
      "Epoch 92/100\n",
      "227/227 [==============================] - 7s 31ms/step - loss: 0.1070 - accuracy: 0.9665\n",
      "Epoch 93/100\n",
      "227/227 [==============================] - 7s 30ms/step - loss: 0.0951 - accuracy: 0.9694\n",
      "Epoch 94/100\n",
      "227/227 [==============================] - 7s 30ms/step - loss: 0.0907 - accuracy: 0.9741\n",
      "Epoch 95/100\n",
      "227/227 [==============================] - 7s 30ms/step - loss: 0.0950 - accuracy: 0.9700\n",
      "Epoch 96/100\n",
      "227/227 [==============================] - 7s 31ms/step - loss: 0.1113 - accuracy: 0.9661\n",
      "Epoch 97/100\n",
      "227/227 [==============================] - 7s 30ms/step - loss: 0.1123 - accuracy: 0.9651\n",
      "Epoch 98/100\n",
      "227/227 [==============================] - 7s 31ms/step - loss: 0.1074 - accuracy: 0.9684\n",
      "Epoch 99/100\n",
      "227/227 [==============================] - 7s 30ms/step - loss: 0.1097 - accuracy: 0.9673\n",
      "Epoch 100/100\n",
      "227/227 [==============================] - 7s 31ms/step - loss: 0.1059 - accuracy: 0.9689\n"
     ]
    }
   ],
   "source": [
    "# Train the model\n",
    "history = original_model.fit(\n",
    "    train_generator,\n",
    "    steps_per_epoch=train_generator.samples // 32,\n",
    "    epochs=100,\n",
    "    verbose=1)  # Number of validation samples // batch_size"
   ]
  },
  {
   "cell_type": "code",
   "execution_count": 23,
   "id": "4092d7ec",
   "metadata": {},
   "outputs": [
    {
     "name": "stdout",
     "output_type": "stream",
     "text": [
      "Found 1339 images belonging to 36 classes.\n",
      "42/42 [==============================] - 1s 22ms/step - loss: 1.1275 - accuracy: 0.8379\n",
      "Test Accuracy: 83.79%\n"
     ]
    }
   ],
   "source": [
    "test_datagen = ImageDataGenerator(rescale=1. / 255)\n",
    "test_generator = test_datagen.flow_from_directory(\n",
    "    test_data_dir,\n",
    "    target_size=(32, 32),\n",
    "    batch_size=32,\n",
    "    class_mode='categorical',\n",
    "    shuffle=False)  # Important: Do not shuffle the test data\n",
    "\n",
    "test_loss, test_accuracy = original_model.evaluate(test_generator)\n",
    "print(f'Test Accuracy: {test_accuracy * 100:.2f}%')"
   ]
  },
  {
   "cell_type": "code",
   "execution_count": 24,
   "id": "f309563b",
   "metadata": {},
   "outputs": [
    {
     "name": "stdout",
     "output_type": "stream",
     "text": [
      "42/42 [==============================] - 1s 18ms/step\n",
      "1339\n",
      "Confusion Matrix:\n",
      "[[19  0  0 ...  0  2  0]\n",
      " [ 0 19  0 ...  0  0  0]\n",
      " [ 0  0 28 ...  0  0  0]\n",
      " ...\n",
      " [ 0  0  0 ... 41  0  0]\n",
      " [ 0  1  0 ...  0 22  1]\n",
      " [ 0  0  0 ...  0  0 31]]\n"
     ]
    }
   ],
   "source": [
    "from sklearn.metrics import confusion_matrix\n",
    "\n",
    "predictions = original_model.predict(test_generator)\n",
    "predicted_classes = np.argmax(predictions, axis=1)\n",
    "print(len(predicted_classes))\n",
    "\n",
    "# Get true labels\n",
    "true_labels = test_generator.classes\n",
    "\n",
    "# Compute the confusion matrix\n",
    "confusion_mtx = confusion_matrix(true_labels, predicted_classes)\n",
    "\n",
    "print('Confusion Matrix:')\n",
    "print(confusion_mtx)"
   ]
  },
  {
   "cell_type": "code",
   "execution_count": 25,
   "id": "a61be2f9",
   "metadata": {},
   "outputs": [
    {
     "data": {
      "image/png": "[encoded data removed]",
      "text/plain": [
       "<Figure size 576x576 with 2 Axes>"
      ]
     },
     "metadata": {
      "needs_background": "light"
     },
     "output_type": "display_data"
    }
   ],
   "source": [
    "import seaborn as sns\n",
    "import matplotlib.pyplot as plt\n",
    "\n",
    "# ... (your previous code for predicting and computing confusion matrix) ...\n",
    "\n",
    "# Visualize the confusion matrix\n",
    "plt.figure(figsize=(8, 8))\n",
    "sns.heatmap(confusion_mtx, annot=True, fmt='d', cmap='Blues',\n",
    "            xticklabels=test_generator.class_indices.keys(),\n",
    "            yticklabels=test_generator.class_indices.keys())\n",
    "plt.xlabel('Predicted Labels')\n",
    "plt.ylabel('True Labels')\n",
    "plt.title('Confusion Matrix')\n",
    "plt.show()"
   ]
  },
  {
   "cell_type": "code",
   "execution_count": 27,
   "id": "64f64a88",
   "metadata": {},
   "outputs": [
    {
     "name": "stdout",
     "output_type": "stream",
     "text": [
      "Accuracy: 83.79%\n",
      "Precision: 83.88%\n",
      "Recall: 83.79%\n",
      "F1 Score: 83.45%\n"
     ]
    }
   ],
   "source": [
    "from sklearn.metrics import accuracy_score, precision_score, recall_score, f1_score\n",
    "\n",
    "# Compute accuracy, precision, recall, and F1 score\n",
    "accuracy = accuracy_score(true_labels, predicted_classes)\n",
    "precision = precision_score(true_labels, predicted_classes, average='weighted')  # 'micro', 'macro', or 'weighted' \n",
    "recall = recall_score(true_labels, predicted_classes, average='weighted')  # 'micro', 'macro', or 'weighted' \n",
    "f1 = f1_score(true_labels, predicted_classes, average='weighted')  # 'micro', 'macro', or 'weighted' \n",
    "\n",
    "# Print the evaluation metrics\n",
    "print(f'Accuracy: {accuracy * 100:.2f}%')\n",
    "print(f'Precision: {precision * 100:.2f}%')\n",
    "print(f'Recall: {recall * 100:.2f}%')\n",
    "print(f'F1 Score: {f1 * 100:.2f}%')\n"
   ]
  },
  {
   "cell_type": "code",
   "execution_count": 29,
   "id": "afbdfc72",
   "metadata": {},
   "outputs": [
    {
     "data": {
      "image/png": "[encoded data removed]",
      "text/plain": [
       "<Figure size 576x432 with 2 Axes>"
      ]
     },
     "metadata": {
      "needs_background": "light"
     },
     "output_type": "display_data"
    }
   ],
   "source": [
    "plt.figure(figsize=(8, 6))\n",
    "\n",
    "# Plot training loss with legend\n",
    "loss_line = plt.Line2D([0], [0], color='blue', linewidth=1, linestyle='-', label='Training Loss')\n",
    "plt.plot(history.history['loss'], color='blue')\n",
    "\n",
    "# Create a twin Axes sharing the xaxis for accuracy\n",
    "ax2 = plt.gca().twinx()\n",
    "accuracy_line = plt.Line2D([0], [0], color='green', linewidth=1, linestyle='-', label='Training Accuracy')\n",
    "ax2.plot(history.history['accuracy'], color='green')\n",
    "\n",
    "# Legends for both loss and accuracy\n",
    "lines = [loss_line, accuracy_line]\n",
    "labels = [line.get_label() for line in lines]\n",
    "plt.legend(lines, labels, loc='upper left')\n",
    "\n",
    "plt.xlabel('Epoch')\n",
    "plt.title('Training Loss and Accuracy')\n",
    "plt.show()"
   ]
  },
  {
   "cell_type": "code",
   "execution_count": null,
   "id": "f548da51",
   "metadata": {},
   "outputs": [],
   "source": []
  }
 ],
 "metadata": {
  "kernelspec": {
   "display_name": "Python 3 (ipykernel)",
   "language": "python",
   "name": "python3"
  },
  "language_info": {
   "codemirror_mode": {
    "name": "ipython",
    "version": 3
   },
   "file_extension": ".py",
   "mimetype": "text/x-python",
   "name": "python",
   "nbconvert_exporter": "python",
   "pygments_lexer": "ipython3",
   "version": "3.9.7"
  }
 },
 "nbformat": 4,
 "nbformat_minor": 5
}
