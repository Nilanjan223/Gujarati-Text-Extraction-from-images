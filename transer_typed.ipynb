{
 "cells": [
  {
   "cell_type": "code",
   "execution_count": 2,
   "id": "f7da5585",
   "metadata": {},
   "outputs": [],
   "source": [
    "from keras.layers import Input\n",
    "from keras.layers import Dense\n",
    "from keras.layers import Conv2D\n",
    "from keras.layers import MaxPooling2D # sliding window me se jo bhi maximum pixel hoga wo mil jaega\n",
    "from keras.layers import Flatten\n",
    "from keras.models import Model\n",
    "from keras.preprocessing.image import ImageDataGenerator\n",
    "import os\n",
    "import pathlib\n",
    "import pandas as pd\n",
    "import numpy as np\n",
    "import matplotlib.pyplot as plt\n",
    "import tensorflow as tf"
   ]
  },
  {
   "cell_type": "code",
   "execution_count": 3,
   "id": "acaf1423",
   "metadata": {},
   "outputs": [],
   "source": [
    "single_dir_no_images = len(os.listdir(\"Gujarati/Train/A\"))"
   ]
  },
  {
   "cell_type": "code",
   "execution_count": 4,
   "id": "66d61236",
   "metadata": {},
   "outputs": [
    {
     "data": {
      "text/plain": [
       "<matplotlib.image.AxesImage at 0x1ddf156a3d0>"
      ]
     },
     "execution_count": 4,
     "metadata": {},
     "output_type": "execute_result"
    },
    {
     "data": {
      "image/png": "[encoded data removed]",
      "text/plain": [
       "<Figure size 432x288 with 1 Axes>"
      ]
     },
     "metadata": {
      "needs_background": "light"
     },
     "output_type": "display_data"
    }
   ],
   "source": [
    "img_np_array = plt.imread(os.path.join(\"Gujarati/Train/A\",\n",
    "                                       os.listdir(\"Gujarati/Train/A\")[0]))\n",
    "plt.imshow(img_np_array, cmap=\"Reds\")"
   ]
  },
  {
   "cell_type": "code",
   "execution_count": 6,
   "id": "13241de2",
   "metadata": {},
   "outputs": [],
   "source": [
    "def create_custom_cnn():\n",
    "    \n",
    "    input_layer=Input(shape=(32,32,3))\n",
    "\n",
    "    first_conv_layer= Conv2D(filters=25, kernel_size=(5,5), activation=\"relu\") (input_layer)\n",
    "\n",
    "    second_conv_layer=Conv2D(filters=50, kernel_size=(7,7), activation=\"relu\") (first_conv_layer)\n",
    "\n",
    "    max_pool_out=MaxPooling2D(pool_size=(6,6), strides=(6,6))(second_conv_layer)\n",
    "\n",
    "    flatten_layer=Flatten()(max_pool_out)\n",
    "\n",
    "    network_output_layer=Dense(units=385, activation=\"softmax\") (flatten_layer)\n",
    "    \n",
    "    return Model(inputs=input_layer, outputs=network_output_layer)"
   ]
  },
  {
   "cell_type": "code",
   "execution_count": 7,
   "id": "6e63f9a8",
   "metadata": {},
   "outputs": [],
   "source": [
    "input_layer = Input(shape=(32, 32, 3))\n",
    "conv1 = Conv2D(32, (3, 3), activation='relu')(input_layer)\n",
    "max_pool1 = MaxPooling2D(pool_size=(2, 2))(conv1)\n",
    "conv2 = Conv2D(64, (3, 3), activation='relu')(max_pool1)\n",
    "max_pool2 = MaxPooling2D(pool_size=(2, 2))(conv2)\n",
    "conv3 = Conv2D(128, (3, 3), activation='relu')(max_pool2)\n",
    "max_pool3 = MaxPooling2D(pool_size=(2, 2))(conv3)\n",
    "flatten_layer = Flatten()(max_pool3)\n",
    "dense1 = Dense(256, activation='relu')(flatten_layer)\n",
    "output_layer = Dense(385, activation='softmax')(dense1)  # Assuming num_classes is the number of output classes\n",
    "\n",
    "cnn = Model(inputs=input_layer, outputs=output_layer)\n"
   ]
  },
  {
   "cell_type": "code",
   "execution_count": 8,
   "id": "66283053",
   "metadata": {},
   "outputs": [
    {
     "name": "stdout",
     "output_type": "stream",
     "text": [
      "Model: \"model_1\"\n",
      "____________________________________________________________________________\n",
      " Layer (type)                Output Shape              Param #   Trainable  \n",
      "============================================================================\n",
      " input_2 (InputLayer)        [(None, 32, 32, 3)]       0         Y          \n",
      "                                                                            \n",
      " conv2d_2 (Conv2D)           (None, 30, 30, 32)        896       Y          \n",
      "                                                                            \n",
      " max_pooling2d_2 (MaxPooling  (None, 15, 15, 32)       0         Y          \n",
      " 2D)                                                                        \n",
      "                                                                            \n",
      " conv2d_3 (Conv2D)           (None, 13, 13, 64)        18496     Y          \n",
      "                                                                            \n",
      " max_pooling2d_3 (MaxPooling  (None, 6, 6, 64)         0         Y          \n",
      " 2D)                                                                        \n",
      "                                                                            \n",
      " conv2d_4 (Conv2D)           (None, 4, 4, 128)         73856     Y          \n",
      "                                                                            \n",
      " max_pooling2d_4 (MaxPooling  (None, 2, 2, 128)        0         Y          \n",
      " 2D)                                                                        \n",
      "                                                                            \n",
      " flatten_1 (Flatten)         (None, 512)               0         Y          \n",
      "                                                                            \n",
      " dense_2 (Dense)             (None, 256)               131328    Y          \n",
      "                                                                            \n",
      " dense_3 (Dense)             (None, 385)               98945     Y          \n",
      "                                                                            \n",
      "============================================================================\n",
      "Total params: 323,521\n",
      "Trainable params: 323,521\n",
      "Non-trainable params: 0\n",
      "____________________________________________________________________________\n"
     ]
    }
   ],
   "source": [
    "cnn.summary(show_trainable=True)"
   ]
  },
  {
   "cell_type": "code",
   "execution_count": 9,
   "id": "738bc348",
   "metadata": {},
   "outputs": [],
   "source": [
    "datagen = ImageDataGenerator(rescale=1/255.0)"
   ]
  },
  {
   "cell_type": "code",
   "execution_count": 10,
   "id": "73a796e9",
   "metadata": {},
   "outputs": [
    {
     "name": "stdout",
     "output_type": "stream",
     "text": [
      "<keras.preprocessing.image.ImageDataGenerator object at 0x000001DDF18353A0>\n"
     ]
    }
   ],
   "source": [
    "print(datagen)"
   ]
  },
  {
   "cell_type": "code",
   "execution_count": 11,
   "id": "950fcefb",
   "metadata": {},
   "outputs": [
    {
     "name": "stdout",
     "output_type": "stream",
     "text": [
      "Found 53043 images belonging to 385 classes.\n"
     ]
    }
   ],
   "source": [
    "training_datagen = datagen.flow_from_directory(directory=\"Gujarati/Train\",\n",
    "                                               target_size=(32,32),\n",
    "                                               classes=os.listdir(\"Gujarati/Train\"),\n",
    "                                               batch_size=512)"
   ]
  },
  {
   "cell_type": "code",
   "execution_count": 12,
   "id": "a20c57a3",
   "metadata": {},
   "outputs": [
    {
     "name": "stdout",
     "output_type": "stream",
     "text": [
      "Found 23100 images belonging to 385 classes.\n"
     ]
    }
   ],
   "source": [
    "testing_datagen = datagen.flow_from_directory(directory=\"Gujarati/Test\",\n",
    "                                              target_size=(32,32),\n",
    "                                              classes=os.listdir(\"Gujarati/Test\"))"
   ]
  },
  {
   "cell_type": "code",
   "execution_count": 13,
   "id": "b84860e3",
   "metadata": {},
   "outputs": [],
   "source": [
    "cnn.compile(loss=\"categorical_crossentropy\",\n",
    "                   metrics=[tf.keras.metrics.CategoricalAccuracy(),\n",
    "                            tf.keras.metrics.Precision(),\n",
    "                            tf.keras.metrics.Recall()])"
   ]
  },
  {
   "cell_type": "code",
   "execution_count": 14,
   "id": "cce86ee0",
   "metadata": {},
   "outputs": [
    {
     "data": {
      "text/plain": [
       "<keras.preprocessing.image.DirectoryIterator at 0x1ddf15f01f0>"
      ]
     },
     "execution_count": 14,
     "metadata": {},
     "output_type": "execute_result"
    }
   ],
   "source": [
    "training_datagen"
   ]
  },
  {
   "cell_type": "code",
   "execution_count": 15,
   "id": "97c79a71",
   "metadata": {},
   "outputs": [],
   "source": [
    "X_train_mb,Y_train_mb = training_datagen.__next__()"
   ]
  },
  {
   "cell_type": "code",
   "execution_count": 16,
   "id": "117698e4",
   "metadata": {},
   "outputs": [
    {
     "data": {
      "text/plain": [
       "(512, 385)"
      ]
     },
     "execution_count": 16,
     "metadata": {},
     "output_type": "execute_result"
    }
   ],
   "source": [
    "X_train_mb.shape\n",
    "\n",
    "Y_train_mb.shape"
   ]
  },
  {
   "cell_type": "code",
   "execution_count": 17,
   "id": "24b5e54c",
   "metadata": {},
   "outputs": [
    {
     "data": {
      "text/plain": [
       "(32, 385)"
      ]
     },
     "execution_count": 17,
     "metadata": {},
     "output_type": "execute_result"
    }
   ],
   "source": [
    "X_test_mb,Y_test_mb = testing_datagen.__next__()\n",
    "\n",
    "X_test_mb.shape\n",
    "\n",
    "Y_test_mb.shape"
   ]
  },
  {
   "cell_type": "code",
   "execution_count": 19,
   "id": "304ff57f",
   "metadata": {},
   "outputs": [
    {
     "name": "stdout",
     "output_type": "stream",
     "text": [
      "Epoch 1/10\n",
      "104/104 [==============================] - 162s 2s/step - loss: 4.1804 - categorical_accuracy: 0.1722 - precision: 0.8234 - recall: 0.0225 - val_loss: 3.3788 - val_categorical_accuracy: 0.2728 - val_precision: 0.7313 - val_recall: 0.0853\n",
      "Epoch 2/10\n",
      "104/104 [==============================] - 57s 553ms/step - loss: 2.5828 - categorical_accuracy: 0.4296 - precision: 0.8357 - recall: 0.1945 - val_loss: 2.1840 - val_categorical_accuracy: 0.5095 - val_precision: 0.7658 - val_recall: 0.3483\n",
      "Epoch 3/10\n",
      "104/104 [==============================] - 57s 549ms/step - loss: 1.6713 - categorical_accuracy: 0.6139 - precision: 0.8648 - recall: 0.4182 - val_loss: 1.5310 - val_categorical_accuracy: 0.6394 - val_precision: 0.8170 - val_recall: 0.5308\n",
      "Epoch 4/10\n",
      "104/104 [==============================] - 55s 527ms/step - loss: 1.1113 - categorical_accuracy: 0.7373 - precision: 0.8929 - recall: 0.5902 - val_loss: 1.1124 - val_categorical_accuracy: 0.7282 - val_precision: 0.8347 - val_recall: 0.6618\n",
      "Epoch 5/10\n",
      "104/104 [==============================] - 53s 515ms/step - loss: 0.7697 - categorical_accuracy: 0.8148 - precision: 0.9113 - recall: 0.7096 - val_loss: 0.7300 - val_categorical_accuracy: 0.8059 - val_precision: 0.8765 - val_recall: 0.7658\n",
      "Epoch 6/10\n",
      "104/104 [==============================] - 54s 517ms/step - loss: 0.5448 - categorical_accuracy: 0.8668 - precision: 0.9325 - recall: 0.7920 - val_loss: 0.5653 - val_categorical_accuracy: 0.8527 - val_precision: 0.9017 - val_recall: 0.8263\n",
      "Epoch 7/10\n",
      "104/104 [==============================] - 54s 520ms/step - loss: 0.3995 - categorical_accuracy: 0.8995 - precision: 0.9450 - recall: 0.8473 - val_loss: 0.6202 - val_categorical_accuracy: 0.8380 - val_precision: 0.8783 - val_recall: 0.8147\n",
      "Epoch 8/10\n",
      "104/104 [==============================] - 56s 543ms/step - loss: 0.2975 - categorical_accuracy: 0.9245 - precision: 0.9555 - recall: 0.8862 - val_loss: 0.4029 - val_categorical_accuracy: 0.8945 - val_precision: 0.9194 - val_recall: 0.8807\n",
      "Epoch 9/10\n",
      "104/104 [==============================] - 55s 527ms/step - loss: 0.2227 - categorical_accuracy: 0.9412 - precision: 0.9625 - recall: 0.9145 - val_loss: 0.3711 - val_categorical_accuracy: 0.9088 - val_precision: 0.9272 - val_recall: 0.8988\n",
      "Epoch 10/10\n",
      "104/104 [==============================] - 54s 525ms/step - loss: 0.1753 - categorical_accuracy: 0.9545 - precision: 0.9695 - recall: 0.9338 - val_loss: 0.3881 - val_categorical_accuracy: 0.9051 - val_precision: 0.9217 - val_recall: 0.8968\n"
     ]
    },
    {
     "data": {
      "text/plain": [
       "<keras.callbacks.History at 0x1dd80797070>"
      ]
     },
     "execution_count": 19,
     "metadata": {},
     "output_type": "execute_result"
    }
   ],
   "source": [
    "cnn.fit(training_datagen,\n",
    "               epochs=10,\n",
    "               validation_data=testing_datagen)"
   ]
  },
  {
   "cell_type": "code",
   "execution_count": 20,
   "id": "3b8d81e9",
   "metadata": {},
   "outputs": [],
   "source": [
    "cnn.save_weights('custom_cnn_weights.h5')\n",
    "\n"
   ]
  },
  {
   "cell_type": "code",
   "execution_count": 26,
   "id": "2ee279db",
   "metadata": {},
   "outputs": [],
   "source": [
    "layers_to_exclude = 2  # specify the number of layers to exclude from the end\n",
    "\n",
    "# Get the total number of layers in the model\n",
    "total_layers = len(cnn.layers)\n",
    "\n",
    "# Extract weights of layers excluding the last `layers_to_exclude` layers\n",
    "weights_to_save = []\n",
    "for i in range(total_layers - layers_to_exclude):\n",
    "    weights_to_save.append(cnn.layers[i].get_weights())\n",
    "\n",
    "# Save the extracted weights\n",
    "np.save('custom_weights.npy', weights_to_save)"
   ]
  },
  {
   "cell_type": "code",
   "execution_count": 13,
   "id": "b0fbd526",
   "metadata": {},
   "outputs": [],
   "source": [
    "cnn.save('transfer_saved.h5')"
   ]
  },
  {
   "cell_type": "code",
   "execution_count": null,
   "id": "b41174f8",
   "metadata": {},
   "outputs": [],
   "source": []
  }
 ],
 "metadata": {
  "kernelspec": {
   "display_name": "Python 3 (ipykernel)",
   "language": "python",
   "name": "python3"
  },
  "language_info": {
   "codemirror_mode": {
    "name": "ipython",
    "version": 3
   },
   "file_extension": ".py",
   "mimetype": "text/x-python",
   "name": "python",
   "nbconvert_exporter": "python",
   "pygments_lexer": "ipython3",
   "version": "3.9.7"
  }
 },
 "nbformat": 4,
 "nbformat_minor": 5
}
