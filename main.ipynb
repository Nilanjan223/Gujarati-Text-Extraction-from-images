{
 "cells": [
  {
   "cell_type": "code",
   "execution_count": 5,
   "id": "787995af",
   "metadata": {},
   "outputs": [],
   "source": [
    "# import os\n",
    "\n",
    "# # Specify the directory where you want to create new folders\n",
    "# base_directory = r'C:\\Users\\Nilanjan Vyas\\Documents\\Minor_Project\\Dataset'\n",
    "\n",
    "# # Create 36 new folders\n",
    "# for i in range(1, 37):\n",
    "#     folder_name = f'folder_{i}'\n",
    "#     folder_path = os.path.join(base_directory, folder_name)\n",
    "    \n",
    "#     # Check if the folder already exists, if not, create it\n",
    "#     if not os.path.exists(folder_path):\n",
    "#         os.makedirs(folder_path)\n",
    "#         print(f'Folder created: {folder_path}')\n",
    "#     else:\n",
    "#         print(f'Folder already exists: {folder_path}')"
   ]
  },
  {
   "cell_type": "code",
   "execution_count": 37,
   "id": "1dc6d2fd",
   "metadata": {},
   "outputs": [],
   "source": [
    "import os\n",
    "import numpy as np\n",
    "from keras.models import load_model\n",
    "from keras.preprocessing.image import ImageDataGenerator\n",
    "from keras.models import Sequential, Model\n",
    "from keras.layers import Flatten, Dense, Dropout\n",
    "from keras.applications import VGG16\n",
    "from keras.optimizers import Adam\n",
    "from sklearn.model_selection import train_test_split"
   ]
  },
  {
   "cell_type": "code",
   "execution_count": 38,
   "id": "ef58f884",
   "metadata": {},
   "outputs": [],
   "source": [
    "# Set the path to the directory containing the character folders\n",
    "train_data_dir = r'C:\\Users\\Nilanjan Vyas\\Documents\\Minor_Project\\Dataset\\Train'\n",
    "test_data_dir = r'C:\\Users\\Nilanjan Vyas\\Documents\\Minor_Project\\Dataset\\Test'"
   ]
  },
  {
   "cell_type": "code",
   "execution_count": 10,
   "id": "8f80ccbd",
   "metadata": {},
   "outputs": [],
   "source": [
    "# # Load the custom model from the .h5 file\n",
    "# model = load_model(r'C:\\Users\\Nilanjan Vyas\\Documents\\Minor_Project/transfer_saved.h5')"
   ]
  },
  {
   "cell_type": "code",
   "execution_count": 12,
   "id": "eb3ea1b8",
   "metadata": {},
   "outputs": [],
   "source": [
    "# # Compile the model if needed (you can skip this if the model is already compiled in the saved .h5 file)\n",
    "# model.compile(loss='categorical_crossentropy',\n",
    "#               optimizer=Adam(learning_rate=0.0001),\n",
    "#               metrics=['accuracy'])\n",
    "\n"
   ]
  },
  {
   "cell_type": "code",
   "execution_count": null,
   "id": "ec007738",
   "metadata": {},
   "outputs": [],
   "source": []
  },
  {
   "cell_type": "code",
   "execution_count": 39,
   "id": "104a1a52",
   "metadata": {},
   "outputs": [],
   "source": [
    "import os\n",
    "import numpy as np\n",
    "from keras.preprocessing.image import ImageDataGenerator\n",
    "from keras.models import Sequential\n",
    "from keras.layers import Flatten, Dense, Dropout,Conv2D,MaxPooling2D,Input\n",
    "from keras.optimizers import Adam\n",
    "from sklearn.model_selection import train_test_split\n",
    "\n",
    "# Define your own custom model\n",
    "input_layer = Input(shape=(32, 32, 3))\n",
    "\n",
    "# Convolutional layers and max pooling\n",
    "conv1 = Conv2D(32, (3, 3), activation='relu')(input_layer)\n",
    "max_pool1 = MaxPooling2D(pool_size=(2, 2))(conv1)\n",
    "\n",
    "conv2 = Conv2D(64, (3, 3), activation='relu')(max_pool1)\n",
    "max_pool2 = MaxPooling2D(pool_size=(2, 2))(conv2)\n",
    "\n",
    "conv3 = Conv2D(128, (3, 3), activation='relu')(max_pool2)\n",
    "max_pool3 = MaxPooling2D(pool_size=(2, 2))(conv3)\n",
    "\n",
    "# Flatten and fully connected layers\n",
    "flatten_layer = Flatten()(max_pool3)\n",
    "dense1 = Dense(256, activation='relu')(flatten_layer)\n",
    "\n",
    "# Output layer\n",
    "output_layer = Dense(36, activation='softmax')(dense1)  # Assuming 36 classes\n",
    "\n",
    "# Create the model\n",
    "model = Model(inputs=input_layer, outputs=output_layer)\n",
    "# model.load_weights(r'C:\\Users\\Nilanjan Vyas\\Documents\\Minor_Project/custom_cnn_weights.h5')\n",
    "\n",
    "# Compile the model\n"
   ]
  },
  {
   "cell_type": "code",
   "execution_count": 40,
   "id": "51d21710",
   "metadata": {},
   "outputs": [
    {
     "name": "stderr",
     "output_type": "stream",
     "text": [
      "C:\\Anaconda\\lib\\site-packages\\keras\\optimizers\\optimizer_v2\\adam.py:117: UserWarning: The `lr` argument is deprecated, use `learning_rate` instead.\n",
      "  super().__init__(name, **kwargs)\n"
     ]
    }
   ],
   "source": [
    "model.compile(loss='categorical_crossentropy',\n",
    "              optimizer=Adam(lr=0.001),\n",
    "              metrics=['accuracy'])\n"
   ]
  },
  {
   "cell_type": "code",
   "execution_count": 41,
   "id": "4ca6cd8e",
   "metadata": {},
   "outputs": [
    {
     "name": "stdout",
     "output_type": "stream",
     "text": [
      "Model: \"model_1\"\n",
      "____________________________________________________________________________\n",
      " Layer (type)                Output Shape              Param #   Trainable  \n",
      "============================================================================\n",
      " input_2 (InputLayer)        [(None, 32, 32, 3)]       0         Y          \n",
      "                                                                            \n",
      " conv2d_3 (Conv2D)           (None, 30, 30, 32)        896       Y          \n",
      "                                                                            \n",
      " max_pooling2d_3 (MaxPooling  (None, 15, 15, 32)       0         Y          \n",
      " 2D)                                                                        \n",
      "                                                                            \n",
      " conv2d_4 (Conv2D)           (None, 13, 13, 64)        18496     Y          \n",
      "                                                                            \n",
      " max_pooling2d_4 (MaxPooling  (None, 6, 6, 64)         0         Y          \n",
      " 2D)                                                                        \n",
      "                                                                            \n",
      " conv2d_5 (Conv2D)           (None, 4, 4, 128)         73856     Y          \n",
      "                                                                            \n",
      " max_pooling2d_5 (MaxPooling  (None, 2, 2, 128)        0         Y          \n",
      " 2D)                                                                        \n",
      "                                                                            \n",
      " flatten_1 (Flatten)         (None, 512)               0         Y          \n",
      "                                                                            \n",
      " dense_2 (Dense)             (None, 256)               131328    Y          \n",
      "                                                                            \n",
      " dense_3 (Dense)             (None, 36)                9252      Y          \n",
      "                                                                            \n",
      "============================================================================\n",
      "Total params: 233,828\n",
      "Trainable params: 233,828\n",
      "Non-trainable params: 0\n",
      "____________________________________________________________________________\n"
     ]
    }
   ],
   "source": [
    "model.summary(show_trainable=True)"
   ]
  },
  {
   "cell_type": "code",
   "execution_count": 42,
   "id": "01e5b82c",
   "metadata": {},
   "outputs": [
    {
     "name": "stdout",
     "output_type": "stream",
     "text": [
      "Found 7289 images belonging to 36 classes.\n"
     ]
    }
   ],
   "source": [
    "# Data augmentation and normalization\n",
    "train_datagen = ImageDataGenerator(\n",
    "    rescale=1. / 255,\n",
    "    shear_range=0.2,\n",
    "    zoom_range=0.2,\n",
    "    horizontal_flip=True,\n",
    ")  # Splitting 20% of the data as validation set\n",
    "\n",
    "# Load and split the data\n",
    "train_generator = train_datagen.flow_from_directory(\n",
    "    train_data_dir,\n",
    "    target_size=(32, 32),\n",
    "    batch_size=32,\n",
    "    class_mode='categorical')  # Use subset parameter to specify training data"
   ]
  },
  {
   "cell_type": "code",
   "execution_count": 43,
   "id": "cb0f2ed6",
   "metadata": {},
   "outputs": [
    {
     "name": "stdout",
     "output_type": "stream",
     "text": [
      "Epoch 1/100\n",
      "227/227 [==============================] - 57s 249ms/step - loss: 3.5294 - accuracy: 0.0402\n",
      "Epoch 2/100\n",
      "227/227 [==============================] - 13s 56ms/step - loss: 2.8085 - accuracy: 0.2128\n",
      "Epoch 3/100\n",
      "227/227 [==============================] - 13s 56ms/step - loss: 2.0817 - accuracy: 0.4077\n",
      "Epoch 4/100\n",
      "227/227 [==============================] - 12s 54ms/step - loss: 1.6257 - accuracy: 0.5353\n",
      "Epoch 5/100\n",
      "227/227 [==============================] - 12s 55ms/step - loss: 1.3263 - accuracy: 0.6136\n",
      "Epoch 6/100\n",
      "227/227 [==============================] - 12s 52ms/step - loss: 1.1332 - accuracy: 0.6624\n",
      "Epoch 7/100\n",
      "227/227 [==============================] - 12s 52ms/step - loss: 0.9498 - accuracy: 0.7229\n",
      "Epoch 8/100\n",
      "227/227 [==============================] - 12s 53ms/step - loss: 0.8463 - accuracy: 0.7469\n",
      "Epoch 9/100\n",
      "227/227 [==============================] - 12s 53ms/step - loss: 0.7298 - accuracy: 0.7850\n",
      "Epoch 10/100\n",
      "227/227 [==============================] - 12s 52ms/step - loss: 0.6487 - accuracy: 0.8058\n",
      "Epoch 11/100\n",
      "227/227 [==============================] - 12s 55ms/step - loss: 0.5856 - accuracy: 0.8185\n",
      "Epoch 12/100\n",
      "227/227 [==============================] - 12s 54ms/step - loss: 0.5246 - accuracy: 0.8378\n",
      "Epoch 13/100\n",
      "227/227 [==============================] - 12s 52ms/step - loss: 0.4796 - accuracy: 0.8541\n",
      "Epoch 14/100\n",
      "227/227 [==============================] - 12s 52ms/step - loss: 0.4566 - accuracy: 0.8582\n",
      "Epoch 15/100\n",
      "227/227 [==============================] - 12s 54ms/step - loss: 0.4093 - accuracy: 0.8746\n",
      "Epoch 16/100\n",
      "227/227 [==============================] - 12s 55ms/step - loss: 0.3538 - accuracy: 0.8903\n",
      "Epoch 17/100\n",
      "227/227 [==============================] - 13s 56ms/step - loss: 0.3470 - accuracy: 0.8928\n",
      "Epoch 18/100\n",
      "227/227 [==============================] - 12s 53ms/step - loss: 0.3153 - accuracy: 0.8998\n",
      "Epoch 19/100\n",
      "227/227 [==============================] - 12s 54ms/step - loss: 0.3082 - accuracy: 0.9046\n",
      "Epoch 20/100\n",
      "227/227 [==============================] - 13s 55ms/step - loss: 0.2923 - accuracy: 0.9106\n",
      "Epoch 21/100\n",
      "227/227 [==============================] - 12s 54ms/step - loss: 0.2649 - accuracy: 0.9173\n",
      "Epoch 22/100\n",
      "227/227 [==============================] - 12s 54ms/step - loss: 0.2748 - accuracy: 0.9108\n",
      "Epoch 23/100\n",
      "227/227 [==============================] - 12s 54ms/step - loss: 0.2234 - accuracy: 0.9317\n",
      "Epoch 24/100\n",
      "227/227 [==============================] - 12s 53ms/step - loss: 0.2316 - accuracy: 0.9256\n",
      "Epoch 25/100\n",
      "227/227 [==============================] - 12s 55ms/step - loss: 0.2134 - accuracy: 0.9315\n",
      "Epoch 26/100\n",
      "227/227 [==============================] - 14s 60ms/step - loss: 0.2176 - accuracy: 0.9334\n",
      "Epoch 27/100\n",
      "227/227 [==============================] - 13s 57ms/step - loss: 0.1961 - accuracy: 0.9368\n",
      "Epoch 28/100\n",
      "227/227 [==============================] - 12s 53ms/step - loss: 0.2146 - accuracy: 0.9323\n",
      "Epoch 29/100\n",
      "227/227 [==============================] - 12s 54ms/step - loss: 0.1855 - accuracy: 0.9438\n",
      "Epoch 30/100\n",
      "227/227 [==============================] - 12s 54ms/step - loss: 0.1701 - accuracy: 0.9463\n",
      "Epoch 31/100\n",
      "227/227 [==============================] - 12s 54ms/step - loss: 0.1882 - accuracy: 0.9416\n",
      "Epoch 32/100\n",
      "227/227 [==============================] - 12s 53ms/step - loss: 0.1479 - accuracy: 0.9536\n",
      "Epoch 33/100\n",
      "227/227 [==============================] - 12s 54ms/step - loss: 0.1644 - accuracy: 0.9450\n",
      "Epoch 34/100\n",
      "227/227 [==============================] - 12s 54ms/step - loss: 0.1763 - accuracy: 0.9458\n",
      "Epoch 35/100\n",
      "227/227 [==============================] - 12s 54ms/step - loss: 0.1790 - accuracy: 0.9416\n",
      "Epoch 36/100\n",
      "227/227 [==============================] - 13s 56ms/step - loss: 0.1352 - accuracy: 0.9576\n",
      "Epoch 37/100\n",
      "227/227 [==============================] - 12s 54ms/step - loss: 0.1569 - accuracy: 0.9504\n",
      "Epoch 38/100\n",
      "227/227 [==============================] - 12s 53ms/step - loss: 0.1582 - accuracy: 0.9512\n",
      "Epoch 39/100\n",
      "227/227 [==============================] - 13s 55ms/step - loss: 0.1346 - accuracy: 0.9580\n",
      "Epoch 40/100\n",
      "227/227 [==============================] - 12s 55ms/step - loss: 0.1437 - accuracy: 0.9525\n",
      "Epoch 41/100\n",
      "227/227 [==============================] - 12s 54ms/step - loss: 0.1252 - accuracy: 0.9596\n",
      "Epoch 42/100\n",
      "227/227 [==============================] - 12s 54ms/step - loss: 0.1335 - accuracy: 0.9577\n",
      "Epoch 43/100\n",
      "227/227 [==============================] - 12s 54ms/step - loss: 0.1154 - accuracy: 0.9640\n",
      "Epoch 44/100\n",
      "227/227 [==============================] - 13s 55ms/step - loss: 0.1387 - accuracy: 0.9588\n",
      "Epoch 45/100\n",
      "227/227 [==============================] - 13s 56ms/step - loss: 0.1361 - accuracy: 0.9567\n",
      "Epoch 46/100\n",
      "227/227 [==============================] - 11s 50ms/step - loss: 0.1202 - accuracy: 0.9620\n",
      "Epoch 47/100\n",
      "227/227 [==============================] - 12s 52ms/step - loss: 0.1092 - accuracy: 0.9643\n",
      "Epoch 48/100\n",
      "227/227 [==============================] - 12s 52ms/step - loss: 0.1190 - accuracy: 0.9631\n",
      "Epoch 49/100\n",
      "227/227 [==============================] - 13s 55ms/step - loss: 0.1074 - accuracy: 0.9661\n",
      "Epoch 50/100\n",
      "227/227 [==============================] - 11s 47ms/step - loss: 0.1181 - accuracy: 0.9650\n",
      "Epoch 51/100\n",
      "227/227 [==============================] - 11s 48ms/step - loss: 0.1242 - accuracy: 0.9610\n",
      "Epoch 52/100\n",
      "227/227 [==============================] - 11s 48ms/step - loss: 0.0908 - accuracy: 0.9700\n",
      "Epoch 53/100\n",
      "227/227 [==============================] - 11s 47ms/step - loss: 0.1141 - accuracy: 0.9639\n",
      "Epoch 54/100\n",
      "227/227 [==============================] - 11s 48ms/step - loss: 0.1229 - accuracy: 0.9616\n",
      "Epoch 55/100\n",
      "227/227 [==============================] - 11s 48ms/step - loss: 0.1189 - accuracy: 0.9595\n",
      "Epoch 56/100\n",
      "227/227 [==============================] - 11s 47ms/step - loss: 0.0955 - accuracy: 0.9665\n",
      "Epoch 57/100\n",
      "227/227 [==============================] - 11s 48ms/step - loss: 0.1174 - accuracy: 0.9635\n",
      "Epoch 58/100\n",
      "227/227 [==============================] - 11s 47ms/step - loss: 0.0987 - accuracy: 0.9679\n",
      "Epoch 59/100\n",
      "227/227 [==============================] - 11s 46ms/step - loss: 0.0877 - accuracy: 0.9716\n",
      "Epoch 60/100\n",
      "227/227 [==============================] - 11s 47ms/step - loss: 0.0983 - accuracy: 0.9683\n",
      "Epoch 61/100\n",
      "227/227 [==============================] - 11s 46ms/step - loss: 0.0825 - accuracy: 0.9733\n",
      "Epoch 62/100\n",
      "227/227 [==============================] - 11s 47ms/step - loss: 0.1075 - accuracy: 0.9658\n",
      "Epoch 63/100\n",
      "227/227 [==============================] - 11s 47ms/step - loss: 0.0972 - accuracy: 0.9684\n",
      "Epoch 64/100\n",
      "227/227 [==============================] - 11s 47ms/step - loss: 0.1103 - accuracy: 0.9646\n",
      "Epoch 65/100\n",
      "227/227 [==============================] - 10s 45ms/step - loss: 0.1036 - accuracy: 0.9679\n",
      "Epoch 66/100\n",
      "227/227 [==============================] - 14s 60ms/step - loss: 0.1034 - accuracy: 0.9665\n",
      "Epoch 67/100\n",
      "227/227 [==============================] - 13s 59ms/step - loss: 0.0817 - accuracy: 0.9752\n",
      "Epoch 68/100\n",
      "227/227 [==============================] - 14s 62ms/step - loss: 0.0889 - accuracy: 0.9705\n",
      "Epoch 69/100\n",
      "227/227 [==============================] - 12s 52ms/step - loss: 0.0881 - accuracy: 0.9724\n",
      "Epoch 70/100\n",
      "227/227 [==============================] - 11s 48ms/step - loss: 0.0896 - accuracy: 0.9727\n",
      "Epoch 71/100\n",
      "227/227 [==============================] - 11s 50ms/step - loss: 0.1041 - accuracy: 0.9684\n",
      "Epoch 72/100\n",
      "227/227 [==============================] - 12s 53ms/step - loss: 0.0814 - accuracy: 0.9742\n",
      "Epoch 73/100\n",
      "227/227 [==============================] - 13s 57ms/step - loss: 0.0696 - accuracy: 0.9768\n",
      "Epoch 74/100\n",
      "227/227 [==============================] - 13s 57ms/step - loss: 0.0904 - accuracy: 0.9755\n",
      "Epoch 75/100\n",
      "227/227 [==============================] - 12s 54ms/step - loss: 0.0926 - accuracy: 0.9718\n",
      "Epoch 76/100\n",
      "227/227 [==============================] - 12s 51ms/step - loss: 0.0917 - accuracy: 0.9731\n",
      "Epoch 77/100\n",
      "227/227 [==============================] - 12s 53ms/step - loss: 0.0661 - accuracy: 0.9785\n",
      "Epoch 78/100\n",
      "227/227 [==============================] - 10s 46ms/step - loss: 0.0812 - accuracy: 0.9726\n",
      "Epoch 79/100\n"
     ]
    },
    {
     "name": "stdout",
     "output_type": "stream",
     "text": [
      "227/227 [==============================] - 11s 50ms/step - loss: 0.0882 - accuracy: 0.9719\n",
      "Epoch 80/100\n",
      "227/227 [==============================] - 16s 68ms/step - loss: 0.0769 - accuracy: 0.9738\n",
      "Epoch 81/100\n",
      "227/227 [==============================] - 60s 264ms/step - loss: 0.0747 - accuracy: 0.9764\n",
      "Epoch 82/100\n",
      "227/227 [==============================] - 13s 58ms/step - loss: 0.0799 - accuracy: 0.9746\n",
      "Epoch 83/100\n",
      "227/227 [==============================] - 11s 47ms/step - loss: 0.0887 - accuracy: 0.9718\n",
      "Epoch 84/100\n",
      "227/227 [==============================] - 11s 46ms/step - loss: 0.0516 - accuracy: 0.9839\n",
      "Epoch 85/100\n",
      "227/227 [==============================] - 12s 51ms/step - loss: 0.0668 - accuracy: 0.9797\n",
      "Epoch 86/100\n",
      "227/227 [==============================] - 12s 51ms/step - loss: 0.0863 - accuracy: 0.9724\n",
      "Epoch 87/100\n",
      "227/227 [==============================] - 13s 55ms/step - loss: 0.0728 - accuracy: 0.9756\n",
      "Epoch 88/100\n",
      "227/227 [==============================] - 12s 55ms/step - loss: 0.0754 - accuracy: 0.9762\n",
      "Epoch 89/100\n",
      "227/227 [==============================] - 13s 59ms/step - loss: 0.0741 - accuracy: 0.9767\n",
      "Epoch 90/100\n",
      "227/227 [==============================] - 13s 58ms/step - loss: 0.0694 - accuracy: 0.9799\n",
      "Epoch 91/100\n",
      "227/227 [==============================] - 11s 50ms/step - loss: 0.0820 - accuracy: 0.9744\n",
      "Epoch 92/100\n",
      "227/227 [==============================] - 14s 60ms/step - loss: 0.0828 - accuracy: 0.9738\n",
      "Epoch 93/100\n",
      "227/227 [==============================] - 13s 55ms/step - loss: 0.0610 - accuracy: 0.9802\n",
      "Epoch 94/100\n",
      "227/227 [==============================] - 13s 55ms/step - loss: 0.0774 - accuracy: 0.9746\n",
      "Epoch 95/100\n",
      "227/227 [==============================] - 12s 52ms/step - loss: 0.0860 - accuracy: 0.9722\n",
      "Epoch 96/100\n",
      "227/227 [==============================] - 12s 51ms/step - loss: 0.0651 - accuracy: 0.9786\n",
      "Epoch 97/100\n",
      "227/227 [==============================] - 12s 51ms/step - loss: 0.0702 - accuracy: 0.9782\n",
      "Epoch 98/100\n",
      "227/227 [==============================] - 12s 52ms/step - loss: 0.0507 - accuracy: 0.9847\n",
      "Epoch 99/100\n",
      "227/227 [==============================] - 12s 55ms/step - loss: 0.0769 - accuracy: 0.9764\n",
      "Epoch 100/100\n",
      "227/227 [==============================] - 14s 61ms/step - loss: 0.0791 - accuracy: 0.9768\n"
     ]
    }
   ],
   "source": [
    "# Train the model\n",
    "history = model.fit(\n",
    "    train_generator,\n",
    "    steps_per_epoch=train_generator.samples // 32,\n",
    "    epochs=100,\n",
    "    verbose=1)  # Number of validation samples // batch_size\n",
    "\n",
    "# Evaluate the model on test data\n"
   ]
  },
  {
   "cell_type": "code",
   "execution_count": null,
   "id": "49c6b7f8",
   "metadata": {},
   "outputs": [],
   "source": []
  },
  {
   "cell_type": "code",
   "execution_count": 44,
   "id": "d46bc684",
   "metadata": {},
   "outputs": [
    {
     "name": "stdout",
     "output_type": "stream",
     "text": [
      "Found 1339 images belonging to 36 classes.\n",
      "42/42 [==============================] - 9s 217ms/step - loss: 1.2923 - accuracy: 0.8566\n",
      "Test Accuracy: 85.66%\n"
     ]
    }
   ],
   "source": [
    "test_datagen = ImageDataGenerator(rescale=1. / 255)\n",
    "test_generator = test_datagen.flow_from_directory(\n",
    "    test_data_dir,\n",
    "    target_size=(32, 32),\n",
    "    batch_size=32,\n",
    "    class_mode='categorical',\n",
    "    shuffle=False)  # Important: Do not shuffle the test data\n",
    "\n",
    "test_loss, test_accuracy = model.evaluate(test_generator)\n",
    "print(f'Test Accuracy: {test_accuracy * 100:.2f}%')"
   ]
  },
  {
   "cell_type": "code",
   "execution_count": 45,
   "id": "b6eaffe0",
   "metadata": {},
   "outputs": [
    {
     "name": "stdout",
     "output_type": "stream",
     "text": [
      "42/42 [==============================] - 1s 24ms/step\n",
      "1339\n",
      "Confusion Matrix:\n",
      "[[26  0  0 ...  0  3  0]\n",
      " [ 0 15  0 ...  0  0  0]\n",
      " [ 0  0 33 ...  0  0  0]\n",
      " ...\n",
      " [ 0  0  0 ... 43  0  0]\n",
      " [ 0  0  0 ...  0 27  0]\n",
      " [ 0  0  0 ...  0  0 27]]\n"
     ]
    }
   ],
   "source": [
    "from sklearn.metrics import confusion_matrix\n",
    "\n",
    "predictions = model.predict(test_generator)\n",
    "predicted_classes = np.argmax(predictions, axis=1)\n",
    "print(len(predicted_classes))\n",
    "\n",
    "# Get true labels\n",
    "true_labels = test_generator.classes\n",
    "\n",
    "# Compute the confusion matrix\n",
    "confusion_mtx = confusion_matrix(true_labels, predicted_classes)\n",
    "\n",
    "print('Confusion Matrix:')\n",
    "print(confusion_mtx)"
   ]
  },
  {
   "cell_type": "code",
   "execution_count": 47,
   "id": "1f45efcd",
   "metadata": {},
   "outputs": [
    {
     "data": {
      "image/png": "[encoded data removed]",
      "text/plain": [
       "<Figure size 576x576 with 2 Axes>"
      ]
     },
     "metadata": {
      "needs_background": "light"
     },
     "output_type": "display_data"
    }
   ],
   "source": [
    "import seaborn as sns\n",
    "import matplotlib.pyplot as plt\n",
    "\n",
    "# ... (your previous code for predicting and computing confusion matrix) ...\n",
    "\n",
    "# Visualize the confusion matrix\n",
    "plt.figure(figsize=(8, 8))\n",
    "sns.heatmap(confusion_mtx, annot=True, fmt='d', cmap='Blues',\n",
    "            xticklabels=test_generator.class_indices.keys(),\n",
    "            yticklabels=test_generator.class_indices.keys())\n",
    "plt.xlabel('Predicted Labels')\n",
    "plt.ylabel('True Labels')\n",
    "plt.title('Confusion Matrix')\n",
    "plt.show()"
   ]
  },
  {
   "cell_type": "code",
   "execution_count": 49,
   "id": "0f78d1f6",
   "metadata": {},
   "outputs": [
    {
     "name": "stdout",
     "output_type": "stream",
     "text": [
      "Accuracy: 85.66%\n",
      "Precision: 86.20%\n",
      "Recall: 85.66%\n",
      "F1 Score: 84.61%\n"
     ]
    }
   ],
   "source": [
    "from sklearn.metrics import accuracy_score, precision_score, recall_score, f1_score\n",
    "\n",
    "# Compute accuracy, precision, recall, and F1 score\n",
    "accuracy = accuracy_score(true_labels, predicted_classes)\n",
    "precision = precision_score(true_labels, predicted_classes, average='weighted')  # 'micro', 'macro', or 'weighted' \n",
    "recall = recall_score(true_labels, predicted_classes, average='weighted')  # 'micro', 'macro', or 'weighted' \n",
    "f1 = f1_score(true_labels, predicted_classes, average='weighted')  # 'micro', 'macro', or 'weighted' \n",
    "\n",
    "# Print the evaluation metrics\n",
    "print(f'Accuracy: {accuracy * 100:.2f}%')\n",
    "print(f'Precision: {precision * 100:.2f}%')\n",
    "print(f'Recall: {recall * 100:.2f}%')\n",
    "print(f'F1 Score: {f1 * 100:.2f}%')\n"
   ]
  },
  {
   "cell_type": "code",
   "execution_count": 70,
   "id": "bdfd6c4d",
   "metadata": {},
   "outputs": [
    {
     "data": {
      "image/png": "[encoded data removed]",
      "text/plain": [
       "<Figure size 576x432 with 2 Axes>"
      ]
     },
     "metadata": {
      "needs_background": "light"
     },
     "output_type": "display_data"
    }
   ],
   "source": [
    "plt.figure(figsize=(8, 6))\n",
    "\n",
    "# Plot training loss with legend\n",
    "loss_line = plt.Line2D([0], [0], color='blue', linewidth=1, linestyle='-', label='Training Loss')\n",
    "plt.plot(history.history['loss'], color='blue')\n",
    "\n",
    "# Create a twin Axes sharing the xaxis for accuracy\n",
    "ax2 = plt.gca().twinx()\n",
    "accuracy_line = plt.Line2D([0], [0], color='green', linewidth=1, linestyle='-', label='Training Accuracy')\n",
    "ax2.plot(history.history['accuracy'], color='green')\n",
    "\n",
    "# Legends for both loss and accuracy\n",
    "lines = [loss_line, accuracy_line]\n",
    "labels = [line.get_label() for line in lines]\n",
    "plt.legend(lines, labels, loc='upper left')\n",
    "\n",
    "plt.xlabel('Epoch')\n",
    "plt.title('Training Loss and Accuracy')\n",
    "plt.show()"
   ]
  },
  {
   "cell_type": "code",
   "execution_count": null,
   "id": "9d072fa9",
   "metadata": {},
   "outputs": [],
   "source": []
  }
 ],
 "metadata": {
  "kernelspec": {
   "display_name": "Python 3 (ipykernel)",
   "language": "python",
   "name": "python3"
  },
  "language_info": {
   "codemirror_mode": {
    "name": "ipython",
    "version": 3
   },
   "file_extension": ".py",
   "mimetype": "text/x-python",
   "name": "python",
   "nbconvert_exporter": "python",
   "pygments_lexer": "ipython3",
   "version": "3.9.7"
  }
 },
 "nbformat": 4,
 "nbformat_minor": 5
}
